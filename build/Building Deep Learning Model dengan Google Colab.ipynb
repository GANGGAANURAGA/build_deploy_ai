{
 "cells": [
  {
   "cell_type": "markdown",
   "metadata": {},
   "source": [
    "# <div class=\"alert alert-block alert-info\">BUILD DEEP FEED FORWARD MODEL</div>"
   ]
  },
  {
   "cell_type": "markdown",
   "metadata": {},
   "source": [
    "![Keras](https://miro.medium.com/max/500/1*LBjjmGofNJ_6vetddYAvIQ.jpeg)"
   ]
  },
  {
   "cell_type": "markdown",
   "metadata": {},
   "source": [
    "----"
   ]
  },
  {
   "cell_type": "markdown",
   "metadata": {
    "colab_type": "text",
    "id": "nEtvhkSng2ca"
   },
   "source": [
    "## Tools"
   ]
  },
  {
   "cell_type": "markdown",
   "metadata": {},
   "source": [
    "**Numpy** adalah library yang akan kita gunakan untuk memanipulasi array n-dimensi.\n",
    "\n",
    "**Tensorflow** merupakan library yang diciptakan oleh Google Brain, yang akan menjadi library inti kita dalam membangun dan men-*serve* model ANN dalam mengenal tulisan tangan. Namun, karena Tensorflow terlalu rumit dan *verbose* untuk pemula, kita akan menggunakan **Keras**. Tensorflow sangat populer karena selain dukungan memiliki *state-of-the-art* fitur pengembangan model Deep Learning, Tensorflow juga menawarkan kemudahan untuk men-deploy model Deep Learning yang telah dibuat ke berbagai jenis platform seperti Cloud, Android, iOS, Raspberry Pi, dsb.\n",
    "\n",
    "Keras merupakan library *wrapper* dari Tensorflow. Dengan Keras, kita tetap dapat menggunakan Tensorflow dengan code yang lebih mudah dan ringkas."
   ]
  },
  {
   "cell_type": "markdown",
   "metadata": {},
   "source": [
    "![TF](https://github.com/Amin-Tgz/awesome-tensorflow-2/raw/master/imgs/TF.png)"
   ]
  },
  {
   "cell_type": "markdown",
   "metadata": {},
   "source": [
    "----"
   ]
  },
  {
   "cell_type": "markdown",
   "metadata": {},
   "source": [
    "## Data : MNIST"
   ]
  },
  {
   "cell_type": "markdown",
   "metadata": {},
   "source": [
    "**MNIST** (Modified National Institute of Standards and Technology) merupakan dataset angka dari tulisan tangan yang dibuat oleh Yann LeCun dari NYU http://yann.lecun.com/exdb/mnist/. Yann LeCun merupakan salah satu dari tiga tokoh penerima Turing Award (bisa dikatakan Noble Prize untuk bidang computing) berkat jasanya di bidang AI."
   ]
  },
  {
   "cell_type": "markdown",
   "metadata": {},
   "source": [
    "![lecun](https://cdn.vox-cdn.com/uploads/chorus_image/image/63307717/verge_180326_3322_0001.0.jpg)\n",
    "\n",
    "dari kiri ke kanan : Yann LeCun, Geoffrey Hinton, Yoshua Bengio ***'The Godfathers of AI'***"
   ]
  },
  {
   "cell_type": "markdown",
   "metadata": {},
   "source": [
    "MNIST memiliki 60.000 data training dan 10.000 data testing. Dalam MNIST terdapat tulisan tangan berupa angka dari 0 hingga 9 (10 label/kelas). Dataset asli MNIST dapat didownload di : http://yann.lecun.com/exdb/mnist/. Keras telah menyediakan dataset ini dalam librarynya."
   ]
  },
  {
   "cell_type": "markdown",
   "metadata": {},
   "source": [
    "*catatan :<br>\n",
    "colab akan memberi warning sebanyak 2 kali. klik run anyway*"
   ]
  },
  {
   "cell_type": "markdown",
   "metadata": {},
   "source": [
    "### Import data MNIST dari Keras"
   ]
  },
  {
   "cell_type": "code",
   "execution_count": 1,
   "metadata": {
    "colab": {
     "base_uri": "https://localhost:8080/",
     "height": 34
    },
    "colab_type": "code",
    "id": "MQqBk5ZRhUwD",
    "outputId": "3d00af32-faf5-4409-e051-ce5055744e34",
    "scrolled": true
   },
   "outputs": [],
   "source": [
    "# import numpy untuk pengolahan matriks\n",
    "import numpy as np\n",
    "# import modul mnist dari keras.datasets\n",
    "from tensorflow.keras.datasets import mnist"
   ]
  },
  {
   "cell_type": "code",
   "execution_count": 2,
   "metadata": {
    "colab": {},
    "colab_type": "code",
    "id": "x7xOER-thX1e"
   },
   "outputs": [],
   "source": [
    "# load data mnist ke empat variabel.\n",
    "# citra angka untuk training dan labelnya di x_train dan y_train.\n",
    "# citra angka untuk testing dan labelnya di x_test dan y_test\n",
    "(x_train, y_train), (x_test, y_test) = mnist.load_data()"
   ]
  },
  {
   "cell_type": "markdown",
   "metadata": {},
   "source": [
    "Untuk memvisualisasikan data x_train dan x_test kita memerlukan modul pyplot dari library **Matplotlib**."
   ]
  },
  {
   "cell_type": "code",
   "execution_count": 3,
   "metadata": {
    "colab": {},
    "colab_type": "code",
    "id": "yiLohbljhaSN"
   },
   "outputs": [],
   "source": [
    "# import matplotlib untuk visualisasi citra mnist\n",
    "import matplotlib.pyplot as plt"
   ]
  },
  {
   "cell_type": "markdown",
   "metadata": {},
   "source": [
    "**Lihat data pertama dari x_train**"
   ]
  },
  {
   "cell_type": "code",
   "execution_count": 4,
   "metadata": {
    "colab": {
     "base_uri": "https://localhost:8080/",
     "height": 282
    },
    "colab_type": "code",
    "id": "ehVD8nDthk71",
    "outputId": "18d77ee2-a871-4e52-ea9e-2ef2a40e0f45"
   },
   "outputs": [
    {
     "data": {
      "text/plain": [
       "<matplotlib.image.AxesImage at 0x207e7a240b8>"
      ]
     },
     "execution_count": 4,
     "metadata": {},
     "output_type": "execute_result"
    },
    {
     "data": {
      "image/png": "[encoded data removed]",
      "text/plain": [
       "<Figure size 432x288 with 1 Axes>"
      ]
     },
     "metadata": {
      "needs_background": "light"
     },
     "output_type": "display_data"
    }
   ],
   "source": [
    "# visualisasi data pertama dari x_train, 0 menyatakan index data\n",
    "plt.imshow(x_train[0,:,:], cmap='gray')"
   ]
  },
  {
   "cell_type": "markdown",
   "metadata": {},
   "source": [
    "**Lihat label dari data pertama tersebut**"
   ]
  },
  {
   "cell_type": "code",
   "execution_count": 5,
   "metadata": {},
   "outputs": [
    {
     "data": {
      "text/plain": [
       "5"
      ]
     },
     "execution_count": 5,
     "metadata": {},
     "output_type": "execute_result"
    }
   ],
   "source": [
    "# cek label data di atas\n",
    "y_train[0]"
   ]
  },
  {
   "cell_type": "markdown",
   "metadata": {},
   "source": [
    "Sesuai dengan gambar dan labelnya, data pertama (index ke-0) dari x_train adalah angka 5."
   ]
  },
  {
   "cell_type": "markdown",
   "metadata": {},
   "source": [
    "-----"
   ]
  },
  {
   "cell_type": "markdown",
   "metadata": {},
   "source": [
    "## Build Model"
   ]
  },
  {
   "cell_type": "markdown",
   "metadata": {},
   "source": [
    "### Preprocess data"
   ]
  },
  {
   "cell_type": "markdown",
   "metadata": {},
   "source": [
    "Untuk dapat memasukkan data ke arsitektur Deep Learning yang akan kita buat, kita perlu mengolah data input (yang berupa matriks citra angka MNIST) terlebih dahulu. Pengolahan di sini meliputi perubahan bentuk (shape) dari matriks gambar, normalisasi data dan encoding label data. Pengolahan bentuk matriks gambar sangat bergantung pada arsitektur Deep Learning yang Anda buat. Pada kali ini kita akan menggunakan arsitektur Deep Feed Forward seperti gambar di bawah ini. Terdiri dari 1 layer input, 2 *hidden layer* dan 1 layer ouput."
   ]
  },
  {
   "cell_type": "markdown",
   "metadata": {},
   "source": [
    "![TF](https://polychord.io/neuralnetchart/img/DFF.png)"
   ]
  },
  {
   "cell_type": "markdown",
   "metadata": {},
   "source": [
    "*perhatian : jumlah node pada tiap layer pada gambar di atas tidak mencerminkan arsitektur yang ingin kita bangun. layer input terdiri dari 784 node, hidden layer pertama terdiri dari 128 node, hidden layer kedua terdiri dari 32 node dan layer output terdiri dari 10 node*"
   ]
  },
  {
   "cell_type": "markdown",
   "metadata": {},
   "source": [
    "Untuk merubah bentuk matriks Perubahan bentuk dapat dicontohkan dengan matriks di bawah ini. Misalkan Anda memiliki image berukuran 3x3 piksel seperti gambar di bawah ini. Untuk dapat memasukkan data ke arsitektur di atas, kita perlu mengubah matriks 3x3 tadi menjadi matriks dengan ukuran 1x9."
   ]
  },
  {
   "cell_type": "markdown",
   "metadata": {},
   "source": [
    "3x3 matriks"
   ]
  },
  {
   "cell_type": "markdown",
   "metadata": {},
   "source": [
    "$$\\begin{bmatrix}\n",
    "1 & 2 & 3\\\\ \n",
    " 4& 5 &6 \\\\ \n",
    " 7& 8 & 9\n",
    "\\end{bmatrix}$$"
   ]
  },
  {
   "cell_type": "markdown",
   "metadata": {},
   "source": [
    "1x9 matriks"
   ]
  },
  {
   "cell_type": "markdown",
   "metadata": {},
   "source": [
    "$$\\begin{bmatrix}\n",
    "1 & 2 & 3 &\n",
    " 4& 5 &6 & \n",
    " 7& 8 & 9\n",
    "\\end{bmatrix}$$"
   ]
  },
  {
   "cell_type": "code",
   "execution_count": 6,
   "metadata": {
    "colab": {},
    "colab_type": "code",
    "id": "ONA6i0U8ioBO"
   },
   "outputs": [],
   "source": [
    "# ubah bentuk matriks ke n x 784. dimana n adalah jumlah citra\n",
    "reshaped_x_train = x_train.reshape(-1,784).astype(np.float32)\n",
    "reshaped_x_test = x_test.reshape(-1,784).astype(np.float32)"
   ]
  },
  {
   "cell_type": "code",
   "execution_count": 7,
   "metadata": {},
   "outputs": [],
   "source": [
    "# normalisasi nilai piksel. citra yang nilainya 0-255 dibuah menjadi 0-1\n",
    "reshaped_x_train /= 255\n",
    "reshaped_x_test /= 255"
   ]
  },
  {
   "cell_type": "code",
   "execution_count": 8,
   "metadata": {},
   "outputs": [],
   "source": [
    "# import modul untuk encoding label dari keras.utils\n",
    "from tensorflow.keras.utils import to_categorical"
   ]
  },
  {
   "cell_type": "code",
   "execution_count": 9,
   "metadata": {},
   "outputs": [],
   "source": [
    "# buat variabel untuk menampung jumlah kelas\n",
    "n_class = 10\n",
    "# encoding label dari citra training dan testing\n",
    "reshaped_y_train = to_categorical(y_train, n_class)\n",
    "reshaped_y_test = to_categorical(y_test, n_class)"
   ]
  },
  {
   "cell_type": "code",
   "execution_count": 10,
   "metadata": {
    "colab": {},
    "colab_type": "code",
    "id": "c91Mgf22lJmJ"
   },
   "outputs": [],
   "source": [
    "# import modul yang dibutuhkan untuk membangun arsitektur\n",
    "from tensorflow.keras.models import Sequential\n",
    "from tensorflow.keras.layers import Dense"
   ]
  },
  {
   "cell_type": "markdown",
   "metadata": {},
   "source": [
    "### Buat arsitektur model"
   ]
  },
  {
   "cell_type": "code",
   "execution_count": 11,
   "metadata": {},
   "outputs": [],
   "source": [
    "# buat arsitektur\n",
    "model = Sequential()\n",
    "model.add(Dense(128, input_dim=784, activation='relu'))\n",
    "model.add(Dense(32, activation='relu'))\n",
    "model.add(Dense(n_class, activation='softmax'))\n",
    "model.compile(loss='categorical_crossentropy', optimizer='adam', metrics=['accuracy'])"
   ]
  },
  {
   "cell_type": "markdown",
   "metadata": {},
   "source": [
    "### Train model"
   ]
  },
  {
   "cell_type": "code",
   "execution_count": 12,
   "metadata": {},
   "outputs": [
    {
     "name": "stdout",
     "output_type": "stream",
     "text": [
      "Epoch 1/10\n",
      "1875/1875 [==============================] - 4s 2ms/step - loss: 0.2492 - accuracy: 0.9276 - val_loss: 0.1258 - val_accuracy: 0.9624\n",
      "Epoch 2/10\n",
      "1875/1875 [==============================] - 4s 2ms/step - loss: 0.1052 - accuracy: 0.9686 - val_loss: 0.0981 - val_accuracy: 0.9704\n",
      "Epoch 3/10\n",
      "1875/1875 [==============================] - 4s 2ms/step - loss: 0.0724 - accuracy: 0.9778 - val_loss: 0.0914 - val_accuracy: 0.9720\n",
      "Epoch 4/10\n",
      "1875/1875 [==============================] - 4s 2ms/step - loss: 0.0560 - accuracy: 0.9827 - val_loss: 0.0869 - val_accuracy: 0.9729\n",
      "Epoch 5/10\n",
      "1875/1875 [==============================] - 4s 2ms/step - loss: 0.0445 - accuracy: 0.9858 - val_loss: 0.0831 - val_accuracy: 0.9750\n",
      "Epoch 6/10\n",
      "1875/1875 [==============================] - 4s 2ms/step - loss: 0.0362 - accuracy: 0.9881 - val_loss: 0.0803 - val_accuracy: 0.9774\n",
      "Epoch 7/10\n",
      "1875/1875 [==============================] - 4s 2ms/step - loss: 0.0287 - accuracy: 0.9908 - val_loss: 0.1002 - val_accuracy: 0.9750\n",
      "Epoch 8/10\n",
      "1875/1875 [==============================] - 4s 2ms/step - loss: 0.0274 - accuracy: 0.9910 - val_loss: 0.0934 - val_accuracy: 0.9742\n",
      "Epoch 9/10\n",
      "1875/1875 [==============================] - 4s 2ms/step - loss: 0.0212 - accuracy: 0.9930 - val_loss: 0.0878 - val_accuracy: 0.9760\n",
      "Epoch 10/10\n",
      "1875/1875 [==============================] - 4s 2ms/step - loss: 0.0204 - accuracy: 0.9929 - val_loss: 0.0956 - val_accuracy: 0.9764\n"
     ]
    },
    {
     "data": {
      "text/plain": [
       "<tensorflow.python.keras.callbacks.History at 0x207c5e2b198>"
      ]
     },
     "execution_count": 12,
     "metadata": {},
     "output_type": "execute_result"
    }
   ],
   "source": [
    "# training model\n",
    "model.fit(reshaped_x_train, reshaped_y_train, validation_data=(reshaped_x_test, reshaped_y_test), epochs=10)"
   ]
  },
  {
   "cell_type": "markdown",
   "metadata": {},
   "source": [
    "### Save Model"
   ]
  },
  {
   "cell_type": "code",
   "execution_count": 13,
   "metadata": {},
   "outputs": [
    {
     "name": "stdout",
     "output_type": "stream",
     "text": [
      "Model is saved!\n"
     ]
    }
   ],
   "source": [
    "# simpan model ke dalam bentuk file HDF5 untuk bisa dideploy\n",
    "try:\n",
    "    model.save('model.h5')\n",
    "except:\n",
    "    print('Cannot save model!')\n",
    "else:\n",
    "    print('Model is saved!')"
   ]
  },
  {
   "cell_type": "markdown",
   "metadata": {},
   "source": [
    "**SELAMAT! Anda telah berhasil membuat model Deep Learning pertama Anda!**"
   ]
  },
  {
   "cell_type": "markdown",
   "metadata": {},
   "source": [
    "----"
   ]
  },
  {
   "cell_type": "markdown",
   "metadata": {},
   "source": [
    "## Klasifikasi Gambar Angka dengan Model"
   ]
  },
  {
   "cell_type": "markdown",
   "metadata": {},
   "source": [
    "### Load model"
   ]
  },
  {
   "cell_type": "code",
   "execution_count": 14,
   "metadata": {},
   "outputs": [],
   "source": [
    "# import modul load_model untuk men-load model yang telah kita simpan\n",
    "from tensorflow.keras.models import load_model\n",
    "\n",
    "# load model yang telah kita buat (model.h5) ke variabel model\n",
    "model = load_model('model.h5')"
   ]
  },
  {
   "cell_type": "markdown",
   "metadata": {},
   "source": [
    "### Tentukan indeks dari data test"
   ]
  },
  {
   "cell_type": "code",
   "execution_count": 15,
   "metadata": {},
   "outputs": [
    {
     "data": {
      "image/png": "[encoded data removed]",
      "text/plain": [
       "<Figure size 432x288 with 1 Axes>"
      ]
     },
     "metadata": {
      "needs_background": "light"
     },
     "output_type": "display_data"
    },
    {
     "name": "stdout",
     "output_type": "stream",
     "text": [
      "Angka 7\n"
     ]
    }
   ],
   "source": [
    "# tentukan indek x_test yang akan diambil. tampung ke variabel idx. kita akan coba mengambil data index ke-100 dari x_test\n",
    "idx = 0 # Anda bisa mengubah nilai idx. dengan ketentuan idx = 0-10000\n",
    "# ambil data pertama dari x_test. tampung ke variabel img\n",
    "img = x_test[idx,:,:]\n",
    "# ambil label data pertama. tampung ke variabel label\n",
    "y = y_test[idx]\n",
    "\n",
    "# visualisasi data img\n",
    "plt.imshow(img, cmap='gray')\n",
    "plt.axis('off')\n",
    "plt.show()\n",
    "# print label dan gambar angka\n",
    "print('Angka {}'.format(y))"
   ]
  },
  {
   "cell_type": "markdown",
   "metadata": {},
   "source": [
    "### Preprocessing data"
   ]
  },
  {
   "cell_type": "code",
   "execution_count": 16,
   "metadata": {},
   "outputs": [],
   "source": [
    "# reshape img agar bisa masuk ke model\n",
    "img_reshaped = img.reshape(1,-1).astype(np.float32)\n",
    "# normalisasi data\n",
    "img_reshaped /= 255"
   ]
  },
  {
   "cell_type": "markdown",
   "metadata": {},
   "source": [
    "### Klasifikasi"
   ]
  },
  {
   "cell_type": "code",
   "execution_count": 17,
   "metadata": {},
   "outputs": [],
   "source": [
    "# klasifikasi kelas/label dari data tadi\n",
    "y_pred = np.argmax(model.predict(img_reshaped), axis=-1)\n",
    "\n",
    "# cek probabilitas hasil klasifikasi setiap kelas\n",
    "pred = model.predict(img_reshaped)\n",
    "pred = pred.reshape(-1)\n",
    "idx_pred = pred.argsort()[::-1]"
   ]
  },
  {
   "cell_type": "markdown",
   "metadata": {},
   "source": [
    "### Print hasil klasifikasi dengan penjelasan"
   ]
  },
  {
   "cell_type": "code",
   "execution_count": 18,
   "metadata": {},
   "outputs": [
    {
     "name": "stdout",
     "output_type": "stream",
     "text": [
      "Probabilitas setiap kelas (urutan berdasarkan nilai probabilitas tertinggi) :\n",
      " probabilitas kelas 7 adalah :0.999570906162262\n",
      " probabilitas kelas 9 adalah :0.0004278655687812716\n",
      " probabilitas kelas 3 adalah :1.0990571581714903e-06\n",
      " probabilitas kelas 2 adalah :3.9346698343933895e-08\n",
      " probabilitas kelas 0 adalah :8.249750216293705e-09\n",
      " probabilitas kelas 5 adalah :7.599866513885445e-09\n",
      " probabilitas kelas 1 adalah :1.0823897333978039e-09\n",
      " probabilitas kelas 8 adalah :1.9103492399086264e-10\n",
      " probabilitas kelas 4 adalah :6.310868060771524e-12\n",
      " probabilitas kelas 6 adalah :3.3690794769346104e-15\n",
      "\n",
      "Dari nilai probabilitas kelas tertinggi, maka gambar angka diatas diklasifikasikan sebagai angka 7\n",
      "Hasil klasifikasi BENAR\n"
     ]
    }
   ],
   "source": [
    "print('Probabilitas setiap kelas (urutan berdasarkan nilai probabilitas tertinggi) :')\n",
    "for i in idx_pred:\n",
    "    print(' probabilitas kelas {} adalah :{}'.format(i,pred[i]))\n",
    "\n",
    "print('\\nDari nilai probabilitas kelas tertinggi, maka gambar angka diatas diklasifikasikan sebagai angka {}'.format(idx_pred[0])) \n",
    "\n",
    "print('Hasil klasifikasi BENAR') if (y==y_pred) else print('Hasil klasifikasi SALAH')"
   ]
  }
 ],
 "metadata": {
  "colab": {
   "authorship_tag": "ABX9TyP9pG6RTYXlUOZ54FyIGDph",
   "collapsed_sections": [],
   "include_colab_link": true,
   "name": "Build and Deploy AI (Deep Learning) Model.ipynb",
   "provenance": []
  },
  "kernelspec": {
   "display_name": "Python 3",
   "language": "python",
   "name": "python3"
  },
  "language_info": {
   "codemirror_mode": {
    "name": "ipython",
    "version": 3
   },
   "file_extension": ".py",
   "mimetype": "text/x-python",
   "name": "python",
   "nbconvert_exporter": "python",
   "pygments_lexer": "ipython3",
   "version": "3.6.8"
  },
  "varInspector": {
   "cols": {
    "lenName": 16,
    "lenType": 16,
    "lenVar": 40
   },
   "kernels_config": {
    "python": {
     "delete_cmd_postfix": "",
     "delete_cmd_prefix": "del ",
     "library": "var_list.py",
     "varRefreshCmd": "print(var_dic_list())"
    },
    "r": {
     "delete_cmd_postfix": ") ",
     "delete_cmd_prefix": "rm(",
     "library": "var_list.r",
     "varRefreshCmd": "cat(var_dic_list()) "
    }
   },
   "types_to_exclude": [
    "module",
    "function",
    "builtin_function_or_method",
    "instance",
    "_Feature"
   ],
   "window_display": false
  }
 },
 "nbformat": 4,
 "nbformat_minor": 1
}
