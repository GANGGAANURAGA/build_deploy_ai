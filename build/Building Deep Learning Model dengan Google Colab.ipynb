{
 "cells": [
  {
   "cell_type": "markdown",
   "metadata": {},
   "source": [
    "# <div class=\"alert alert-block alert-info\">BUILD DEEP FEED FORWARD MODEL</div>"
   ]
  },
  {
   "cell_type": "markdown",
   "metadata": {},
   "source": [
    "![Keras](https://miro.medium.com/max/500/1*LBjjmGofNJ_6vetddYAvIQ.jpeg)"
   ]
  },
  {
   "cell_type": "markdown",
   "metadata": {},
   "source": [
    "----"
   ]
  },
  {
   "cell_type": "markdown",
   "metadata": {
    "colab_type": "text",
    "id": "nEtvhkSng2ca"
   },
   "source": [
    "## Tools"
   ]
  },
  {
   "cell_type": "markdown",
   "metadata": {},
   "source": [
    "**Numpy** adalah library yang akan kita gunakan untuk memanipulasi array n-dimensi.\n",
    "\n",
    "**Tensorflow** merupakan library yang diciptakan oleh Google Brain, yang akan menjadi library inti kita dalam membangun dan men-*serve* model ANN dalam mengenal tulisan tangan. Namun, karena Tensorflow terlalu rumit dan *verbose* untuk pemula, kita akan menggunakan **Keras**. Tensorflow sangat populer karena selain dukungan memiliki *state-of-the-art* fitur pengembangan model Deep Learning, Tensorflow juga menawarkan kemudahan untuk men-deploy model Deep Learning yang telah dibuat ke berbagai jenis platform seperti Cloud, Android, iOS, Raspberry Pi, dsb.\n",
    "\n",
    "Keras merupakan library *wrapper* dari Tensorflow. Dengan Keras, kita tetap dapat menggunakan Tensorflow dengan code yang lebih mudah dan ringkas."
   ]
  },
  {
   "cell_type": "markdown",
   "metadata": {},
   "source": [
    "![TF](https://github.com/Amin-Tgz/awesome-tensorflow-2/raw/master/imgs/TF.png)"
   ]
  },
  {
   "cell_type": "markdown",
   "metadata": {},
   "source": [
    "----"
   ]
  },
  {
   "cell_type": "markdown",
   "metadata": {},
   "source": [
    "## Data : MNIST"
   ]
  },
  {
   "cell_type": "markdown",
   "metadata": {},
   "source": [
    "**MNIST** (Modified National Institute of Standards and Technology) merupakan dataset angka dari tulisan tangan yang dibuat oleh Yann LeCun dari NYU http://yann.lecun.com/exdb/mnist/. Yann LeCun merupakan salah satu dari tiga tokoh penerima Turing Award (bisa dikatakan Noble Prize untuk bidang computing) berkat jasanya di bidang AI."
   ]
  },
  {
   "cell_type": "markdown",
   "metadata": {},
   "source": [
    "![lecun](https://cdn.vox-cdn.com/uploads/chorus_image/image/63307717/verge_180326_3322_0001.0.jpg)\n",
    "\n",
    "dari kiri ke kanan : Yann LeCun, Geoffrey Hinton, Yoshua Bengio ***'The Godfathers of AI'***"
   ]
  },
  {
   "cell_type": "markdown",
   "metadata": {},
   "source": [
    "MNIST memiliki 60.000 data training dan 10.000 data testing. Dalam MNIST terdapat tulisan tangan berupa angka dari 0 hingga 9 (10 label/kelas). Dataset asli MNIST dapat didownload di : http://yann.lecun.com/exdb/mnist/. Keras telah menyediakan dataset ini dalam librarynya."
   ]
  },
  {
   "cell_type": "markdown",
   "metadata": {},
   "source": [
    "*catatan :<br>\n",
    "colab akan memberi warning sebanyak 2 kali. klik run anyway*"
   ]
  },
  {
   "cell_type": "markdown",
   "metadata": {},
   "source": [
    "### Import data MNIST dari Keras"
   ]
  },
  {
   "cell_type": "code",
   "execution_count": 2,
   "metadata": {
    "colab": {
     "base_uri": "https://localhost:8080/",
     "height": 34
    },
    "colab_type": "code",
    "id": "MQqBk5ZRhUwD",
    "outputId": "3d00af32-faf5-4409-e051-ce5055744e34",
    "scrolled": true
   },
   "outputs": [],
   "source": [
    "# import numpy untuk pengolahan matriks\n",
    "import numpy as np\n",
    "# import modul mnist dari keras.datasets\n",
    "from tensorflow.keras.datasets import mnist"
   ]
  },
  {
   "cell_type": "code",
   "execution_count": 3,
   "metadata": {
    "colab": {},
    "colab_type": "code",
    "id": "x7xOER-thX1e"
   },
   "outputs": [],
   "source": [
    "# load data mnist ke empat variabel.\n",
    "# citra angka untuk training dan labelnya di x_train dan y_train.\n",
    "# citra angka untuk testing dan labelnya di x_test dan y_test\n",
    "(x_train, y_train), (x_test, y_test) = mnist.load_data()"
   ]
  },
  {
   "cell_type": "markdown",
   "metadata": {},
   "source": [
    "Untuk memvisualisasikan data x_train dan x_test kita memerlukan modul pyplot dari library **Matplotlib**."
   ]
  },
  {
   "cell_type": "code",
   "execution_count": 4,
   "metadata": {
    "colab": {},
    "colab_type": "code",
    "id": "yiLohbljhaSN"
   },
   "outputs": [],
   "source": [
    "# import matplotlib untuk visualisasi citra mnist\n",
    "import matplotlib.pyplot as plt"
   ]
  },
  {
   "cell_type": "markdown",
   "metadata": {},
   "source": [
    "**Lihat data pertama dari x_train**"
   ]
  },
  {
   "cell_type": "code",
   "execution_count": 5,
   "metadata": {
    "colab": {
     "base_uri": "https://localhost:8080/",
     "height": 282
    },
    "colab_type": "code",
    "id": "ehVD8nDthk71",
    "outputId": "18d77ee2-a871-4e52-ea9e-2ef2a40e0f45"
   },
   "outputs": [
    {
     "output_type": "execute_result",
     "data": {
      "text/plain": "<matplotlib.image.AxesImage at 0x22f7ec9ffd0>"
     },
     "metadata": {},
     "execution_count": 5
    },
    {
     "output_type": "display_data",
     "data": {
      "text/plain": "<Figure size 432x288 with 1 Axes>",
      "image/svg+xml": "<?xml version=\"1.0\" encoding=\"utf-8\" standalone=\"no\"?>\r\n<!DOCTYPE svg PUBLIC \"-//W3C//DTD SVG 1.1//EN\"\r\n  \"http://www.w3.org/Graphics/SVG/1.1/DTD/svg11.dtd\">\r\n<!-- Created with matplotlib (https://matplotlib.org/) -->\r\n<svg height=\"248.518125pt\" version=\"1.1\" viewBox=\"0 0 251.565 248.518125\" width=\"251.565pt\" xmlns=\"http://www.w3.org/2000/svg\" xmlns:xlink=\"http://www.w3.org/1999/xlink\">\r\n <defs>\r\n  <style type=\"text/css\">\r\n*{stroke-linecap:butt;stroke-linejoin:round;}\r\n  </style>\r\n </defs>\r\n <g id=\"figure_1\">\r\n  <g id=\"patch_1\">\r\n   <path d=\"M 0 248.518125 \r\nL 251.565 248.518125 \r\nL 251.565 0 \r\nL 0 0 \r\nz\r\n\" style=\"fill:none;\"/>\r\n  </g>\r\n  <g id=\"axes_1\">\r\n   <g id=\"patch_2\">\r\n    <path d=\"M 26.925 224.64 \r\nL 244.365 224.64 \r\nL 244.365 7.2 \r\nL 26.925 7.2 \r\nz\r\n\" style=\"fill:#ffffff;\"/>\r\n   </g>\r\n   <g clip-path=\"url(#pa58c159d73)\">\r\n    <image height=\"218\" id=\"image143c88da19\" transform=\"scale(1 -1)translate(0 -218)\" width=\"218\" x=\"26.925\" xlink:href=\"data:image/png;base64,\r\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\" y=\"-6.64\"/>\r\n   </g>\r\n   <g id=\"matplotlib.axis_1\">\r\n    <g id=\"xtick_1\">\r\n     <g id=\"line2d_1\">\r\n      <defs>\r\n       <path d=\"M 0 0 \r\nL 0 3.5 \r\n\" id=\"mf019c4bf27\" style=\"stroke:#000000;stroke-width:0.8;\"/>\r\n      </defs>\r\n      <g>\r\n       <use style=\"stroke:#000000;stroke-width:0.8;\" x=\"30.807857\" xlink:href=\"#mf019c4bf27\" y=\"224.64\"/>\r\n      </g>\r\n     </g>\r\n     <g id=\"text_1\">\r\n      <!-- 0 -->\r\n      <defs>\r\n       <path d=\"M 31.78125 66.40625 \r\nQ 24.171875 66.40625 20.328125 58.90625 \r\nQ 16.5 51.421875 16.5 36.375 \r\nQ 16.5 21.390625 20.328125 13.890625 \r\nQ 24.171875 6.390625 31.78125 6.390625 \r\nQ 39.453125 6.390625 43.28125 13.890625 \r\nQ 47.125 21.390625 47.125 36.375 \r\nQ 47.125 51.421875 43.28125 58.90625 \r\nQ 39.453125 66.40625 31.78125 66.40625 \r\nz\r\nM 31.78125 74.21875 \r\nQ 44.046875 74.21875 50.515625 64.515625 \r\nQ 56.984375 54.828125 56.984375 36.375 \r\nQ 56.984375 17.96875 50.515625 8.265625 \r\nQ 44.046875 -1.421875 31.78125 -1.421875 \r\nQ 19.53125 -1.421875 13.0625 8.265625 \r\nQ 6.59375 17.96875 6.59375 36.375 \r\nQ 6.59375 54.828125 13.0625 64.515625 \r\nQ 19.53125 74.21875 31.78125 74.21875 \r\nz\r\n\" id=\"DejaVuSans-48\"/>\r\n      </defs>\r\n      <g transform=\"translate(27.626607 239.238437)scale(0.1 -0.1)\">\r\n       <use xlink:href=\"#DejaVuSans-48\"/>\r\n      </g>\r\n     </g>\r\n    </g>\r\n    <g id=\"xtick_2\">\r\n     <g id=\"line2d_2\">\r\n      <g>\r\n       <use style=\"stroke:#000000;stroke-width:0.8;\" x=\"69.636429\" xlink:href=\"#mf019c4bf27\" y=\"224.64\"/>\r\n      </g>\r\n     </g>\r\n     <g id=\"text_2\">\r\n      <!-- 5 -->\r\n      <defs>\r\n       <path d=\"M 10.796875 72.90625 \r\nL 49.515625 72.90625 \r\nL 49.515625 64.59375 \r\nL 19.828125 64.59375 \r\nL 19.828125 46.734375 \r\nQ 21.96875 47.46875 24.109375 47.828125 \r\nQ 26.265625 48.1875 28.421875 48.1875 \r\nQ 40.625 48.1875 47.75 41.5 \r\nQ 54.890625 34.8125 54.890625 23.390625 \r\nQ 54.890625 11.625 47.5625 5.09375 \r\nQ 40.234375 -1.421875 26.90625 -1.421875 \r\nQ 22.3125 -1.421875 17.546875 -0.640625 \r\nQ 12.796875 0.140625 7.71875 1.703125 \r\nL 7.71875 11.625 \r\nQ 12.109375 9.234375 16.796875 8.0625 \r\nQ 21.484375 6.890625 26.703125 6.890625 \r\nQ 35.15625 6.890625 40.078125 11.328125 \r\nQ 45.015625 15.765625 45.015625 23.390625 \r\nQ 45.015625 31 40.078125 35.4375 \r\nQ 35.15625 39.890625 26.703125 39.890625 \r\nQ 22.75 39.890625 18.8125 39.015625 \r\nQ 14.890625 38.140625 10.796875 36.28125 \r\nz\r\n\" id=\"DejaVuSans-53\"/>\r\n      </defs>\r\n      <g transform=\"translate(66.455179 239.238437)scale(0.1 -0.1)\">\r\n       <use xlink:href=\"#DejaVuSans-53\"/>\r\n      </g>\r\n     </g>\r\n    </g>\r\n    <g id=\"xtick_3\">\r\n     <g id=\"line2d_3\">\r\n      <g>\r\n       <use style=\"stroke:#000000;stroke-width:0.8;\" x=\"108.465\" xlink:href=\"#mf019c4bf27\" y=\"224.64\"/>\r\n      </g>\r\n     </g>\r\n     <g id=\"text_3\">\r\n      <!-- 10 -->\r\n      <defs>\r\n       <path d=\"M 12.40625 8.296875 \r\nL 28.515625 8.296875 \r\nL 28.515625 63.921875 \r\nL 10.984375 60.40625 \r\nL 10.984375 69.390625 \r\nL 28.421875 72.90625 \r\nL 38.28125 72.90625 \r\nL 38.28125 8.296875 \r\nL 54.390625 8.296875 \r\nL 54.390625 0 \r\nL 12.40625 0 \r\nz\r\n\" id=\"DejaVuSans-49\"/>\r\n      </defs>\r\n      <g transform=\"translate(102.1025 239.238437)scale(0.1 -0.1)\">\r\n       <use xlink:href=\"#DejaVuSans-49\"/>\r\n       <use x=\"63.623047\" xlink:href=\"#DejaVuSans-48\"/>\r\n      </g>\r\n     </g>\r\n    </g>\r\n    <g id=\"xtick_4\">\r\n     <g id=\"line2d_4\">\r\n      <g>\r\n       <use style=\"stroke:#000000;stroke-width:0.8;\" x=\"147.293571\" xlink:href=\"#mf019c4bf27\" y=\"224.64\"/>\r\n      </g>\r\n     </g>\r\n     <g id=\"text_4\">\r\n      <!-- 15 -->\r\n      <g transform=\"translate(140.931071 239.238437)scale(0.1 -0.1)\">\r\n       <use xlink:href=\"#DejaVuSans-49\"/>\r\n       <use x=\"63.623047\" xlink:href=\"#DejaVuSans-53\"/>\r\n      </g>\r\n     </g>\r\n    </g>\r\n    <g id=\"xtick_5\">\r\n     <g id=\"line2d_5\">\r\n      <g>\r\n       <use style=\"stroke:#000000;stroke-width:0.8;\" x=\"186.122143\" xlink:href=\"#mf019c4bf27\" y=\"224.64\"/>\r\n      </g>\r\n     </g>\r\n     <g id=\"text_5\">\r\n      <!-- 20 -->\r\n      <defs>\r\n       <path d=\"M 19.1875 8.296875 \r\nL 53.609375 8.296875 \r\nL 53.609375 0 \r\nL 7.328125 0 \r\nL 7.328125 8.296875 \r\nQ 12.9375 14.109375 22.625 23.890625 \r\nQ 32.328125 33.6875 34.8125 36.53125 \r\nQ 39.546875 41.84375 41.421875 45.53125 \r\nQ 43.3125 49.21875 43.3125 52.78125 \r\nQ 43.3125 58.59375 39.234375 62.25 \r\nQ 35.15625 65.921875 28.609375 65.921875 \r\nQ 23.96875 65.921875 18.8125 64.3125 \r\nQ 13.671875 62.703125 7.8125 59.421875 \r\nL 7.8125 69.390625 \r\nQ 13.765625 71.78125 18.9375 73 \r\nQ 24.125 74.21875 28.421875 74.21875 \r\nQ 39.75 74.21875 46.484375 68.546875 \r\nQ 53.21875 62.890625 53.21875 53.421875 \r\nQ 53.21875 48.921875 51.53125 44.890625 \r\nQ 49.859375 40.875 45.40625 35.40625 \r\nQ 44.1875 33.984375 37.640625 27.21875 \r\nQ 31.109375 20.453125 19.1875 8.296875 \r\nz\r\n\" id=\"DejaVuSans-50\"/>\r\n      </defs>\r\n      <g transform=\"translate(179.759643 239.238437)scale(0.1 -0.1)\">\r\n       <use xlink:href=\"#DejaVuSans-50\"/>\r\n       <use x=\"63.623047\" xlink:href=\"#DejaVuSans-48\"/>\r\n      </g>\r\n     </g>\r\n    </g>\r\n    <g id=\"xtick_6\">\r\n     <g id=\"line2d_6\">\r\n      <g>\r\n       <use style=\"stroke:#000000;stroke-width:0.8;\" x=\"224.950714\" xlink:href=\"#mf019c4bf27\" y=\"224.64\"/>\r\n      </g>\r\n     </g>\r\n     <g id=\"text_6\">\r\n      <!-- 25 -->\r\n      <g transform=\"translate(218.588214 239.238437)scale(0.1 -0.1)\">\r\n       <use xlink:href=\"#DejaVuSans-50\"/>\r\n       <use x=\"63.623047\" xlink:href=\"#DejaVuSans-53\"/>\r\n      </g>\r\n     </g>\r\n    </g>\r\n   </g>\r\n   <g id=\"matplotlib.axis_2\">\r\n    <g id=\"ytick_1\">\r\n     <g id=\"line2d_7\">\r\n      <defs>\r\n       <path d=\"M 0 0 \r\nL -3.5 0 \r\n\" id=\"m82fa3f36f3\" style=\"stroke:#000000;stroke-width:0.8;\"/>\r\n      </defs>\r\n      <g>\r\n       <use style=\"stroke:#000000;stroke-width:0.8;\" x=\"26.925\" xlink:href=\"#m82fa3f36f3\" y=\"11.082857\"/>\r\n      </g>\r\n     </g>\r\n     <g id=\"text_7\">\r\n      <!-- 0 -->\r\n      <g transform=\"translate(13.5625 14.882076)scale(0.1 -0.1)\">\r\n       <use xlink:href=\"#DejaVuSans-48\"/>\r\n      </g>\r\n     </g>\r\n    </g>\r\n    <g id=\"ytick_2\">\r\n     <g id=\"line2d_8\">\r\n      <g>\r\n       <use style=\"stroke:#000000;stroke-width:0.8;\" x=\"26.925\" xlink:href=\"#m82fa3f36f3\" y=\"49.911429\"/>\r\n      </g>\r\n     </g>\r\n     <g id=\"text_8\">\r\n      <!-- 5 -->\r\n      <g transform=\"translate(13.5625 53.710647)scale(0.1 -0.1)\">\r\n       <use xlink:href=\"#DejaVuSans-53\"/>\r\n      </g>\r\n     </g>\r\n    </g>\r\n    <g id=\"ytick_3\">\r\n     <g id=\"line2d_9\">\r\n      <g>\r\n       <use style=\"stroke:#000000;stroke-width:0.8;\" x=\"26.925\" xlink:href=\"#m82fa3f36f3\" y=\"88.74\"/>\r\n      </g>\r\n     </g>\r\n     <g id=\"text_9\">\r\n      <!-- 10 -->\r\n      <g transform=\"translate(7.2 92.539219)scale(0.1 -0.1)\">\r\n       <use xlink:href=\"#DejaVuSans-49\"/>\r\n       <use x=\"63.623047\" xlink:href=\"#DejaVuSans-48\"/>\r\n      </g>\r\n     </g>\r\n    </g>\r\n    <g id=\"ytick_4\">\r\n     <g id=\"line2d_10\">\r\n      <g>\r\n       <use style=\"stroke:#000000;stroke-width:0.8;\" x=\"26.925\" xlink:href=\"#m82fa3f36f3\" y=\"127.568571\"/>\r\n      </g>\r\n     </g>\r\n     <g id=\"text_10\">\r\n      <!-- 15 -->\r\n      <g transform=\"translate(7.2 131.36779)scale(0.1 -0.1)\">\r\n       <use xlink:href=\"#DejaVuSans-49\"/>\r\n       <use x=\"63.623047\" xlink:href=\"#DejaVuSans-53\"/>\r\n      </g>\r\n     </g>\r\n    </g>\r\n    <g id=\"ytick_5\">\r\n     <g id=\"line2d_11\">\r\n      <g>\r\n       <use style=\"stroke:#000000;stroke-width:0.8;\" x=\"26.925\" xlink:href=\"#m82fa3f36f3\" y=\"166.397143\"/>\r\n      </g>\r\n     </g>\r\n     <g id=\"text_11\">\r\n      <!-- 20 -->\r\n      <g transform=\"translate(7.2 170.196362)scale(0.1 -0.1)\">\r\n       <use xlink:href=\"#DejaVuSans-50\"/>\r\n       <use x=\"63.623047\" xlink:href=\"#DejaVuSans-48\"/>\r\n      </g>\r\n     </g>\r\n    </g>\r\n    <g id=\"ytick_6\">\r\n     <g id=\"line2d_12\">\r\n      <g>\r\n       <use style=\"stroke:#000000;stroke-width:0.8;\" x=\"26.925\" xlink:href=\"#m82fa3f36f3\" y=\"205.225714\"/>\r\n      </g>\r\n     </g>\r\n     <g id=\"text_12\">\r\n      <!-- 25 -->\r\n      <g transform=\"translate(7.2 209.024933)scale(0.1 -0.1)\">\r\n       <use xlink:href=\"#DejaVuSans-50\"/>\r\n       <use x=\"63.623047\" xlink:href=\"#DejaVuSans-53\"/>\r\n      </g>\r\n     </g>\r\n    </g>\r\n   </g>\r\n   <g id=\"patch_3\">\r\n    <path d=\"M 26.925 224.64 \r\nL 26.925 7.2 \r\n\" style=\"fill:none;stroke:#000000;stroke-linecap:square;stroke-linejoin:miter;stroke-width:0.8;\"/>\r\n   </g>\r\n   <g id=\"patch_4\">\r\n    <path d=\"M 244.365 224.64 \r\nL 244.365 7.2 \r\n\" style=\"fill:none;stroke:#000000;stroke-linecap:square;stroke-linejoin:miter;stroke-width:0.8;\"/>\r\n   </g>\r\n   <g id=\"patch_5\">\r\n    <path d=\"M 26.925 224.64 \r\nL 244.365 224.64 \r\n\" style=\"fill:none;stroke:#000000;stroke-linecap:square;stroke-linejoin:miter;stroke-width:0.8;\"/>\r\n   </g>\r\n   <g id=\"patch_6\">\r\n    <path d=\"M 26.925 7.2 \r\nL 244.365 7.2 \r\n\" style=\"fill:none;stroke:#000000;stroke-linecap:square;stroke-linejoin:miter;stroke-width:0.8;\"/>\r\n   </g>\r\n  </g>\r\n </g>\r\n <defs>\r\n  <clipPath id=\"pa58c159d73\">\r\n   <rect height=\"217.44\" width=\"217.44\" x=\"26.925\" y=\"7.2\"/>\r\n  </clipPath>\r\n </defs>\r\n</svg>\r\n",
      "image/png": "[encoded data removed]"
     },
     "metadata": {
      "needs_background": "light"
     }
    }
   ],
   "source": [
    "# visualisasi data pertama dari x_train, 0 menyatakan index data\n",
    "plt.imshow(x_train[0,:,:], cmap='gray')"
   ]
  },
  {
   "cell_type": "markdown",
   "metadata": {},
   "source": [
    "**Lihat label dari data pertama tersebut**"
   ]
  },
  {
   "cell_type": "code",
   "execution_count": 6,
   "metadata": {},
   "outputs": [
    {
     "output_type": "execute_result",
     "data": {
      "text/plain": "5"
     },
     "metadata": {},
     "execution_count": 6
    }
   ],
   "source": [
    "# cek label data di atas\n",
    "y_train[0]"
   ]
  },
  {
   "cell_type": "markdown",
   "metadata": {},
   "source": [
    "Sesuai dengan gambar dan labelnya, data pertama (index ke-0) dari x_train adalah angka 5."
   ]
  },
  {
   "cell_type": "markdown",
   "metadata": {},
   "source": [
    "-----"
   ]
  },
  {
   "cell_type": "markdown",
   "metadata": {},
   "source": [
    "## Build Model"
   ]
  },
  {
   "cell_type": "markdown",
   "metadata": {},
   "source": [
    "### Preprocess data"
   ]
  },
  {
   "cell_type": "markdown",
   "metadata": {},
   "source": [
    "Untuk dapat memasukkan data ke arsitektur Deep Learning yang akan kita buat, kita perlu mengolah data input (yang berupa matriks citra angka MNIST) terlebih dahulu. Pengolahan di sini meliputi perubahan bentuk (shape) dari matriks gambar, normalisasi data dan encoding label data. Pengolahan bentuk matriks gambar sangat bergantung pada arsitektur Deep Learning yang Anda buat. Pada kali ini kita akan menggunakan arsitektur Deep Feed Forward seperti gambar di bawah ini. Terdiri dari 1 layer input, 2 *hidden layer* dan 1 layer ouput."
   ]
  },
  {
   "cell_type": "markdown",
   "metadata": {},
   "source": [
    "![TF](https://polychord.io/neuralnetchart/img/DFF.png)"
   ]
  },
  {
   "cell_type": "markdown",
   "metadata": {},
   "source": [
    "*perhatian : jumlah node pada tiap layer pada gambar di atas tidak mencerminkan arsitektur yang ingin kita bangun. layer input terdiri dari 784 node, hidden layer pertama terdiri dari 128 node, hidden layer kedua terdiri dari 32 node dan layer output terdiri dari 10 node*"
   ]
  },
  {
   "cell_type": "markdown",
   "metadata": {},
   "source": [
    "Untuk merubah bentuk matriks Perubahan bentuk dapat dicontohkan dengan matriks di bawah ini. Misalkan Anda memiliki image berukuran 3x3 piksel seperti gambar di bawah ini. Untuk dapat memasukkan data ke arsitektur di atas, kita perlu mengubah matriks 3x3 tadi menjadi matriks dengan ukuran 1x9."
   ]
  },
  {
   "cell_type": "markdown",
   "metadata": {},
   "source": [
    "3x3 matriks"
   ]
  },
  {
   "cell_type": "markdown",
   "metadata": {},
   "source": [
    "$$\\begin{bmatrix}\n",
    "1 & 2 & 3\\\\ \n",
    " 4& 5 &6 \\\\ \n",
    " 7& 8 & 9\n",
    "\\end{bmatrix}$$"
   ]
  },
  {
   "cell_type": "markdown",
   "metadata": {},
   "source": [
    "1x9 matriks"
   ]
  },
  {
   "cell_type": "markdown",
   "metadata": {},
   "source": [
    "$$\\begin{bmatrix}\n",
    "1 & 2 & 3 &\n",
    " 4& 5 &6 & \n",
    " 7& 8 & 9\n",
    "\\end{bmatrix}$$"
   ]
  },
  {
   "cell_type": "code",
   "execution_count": 7,
   "metadata": {
    "colab": {},
    "colab_type": "code",
    "id": "ONA6i0U8ioBO"
   },
   "outputs": [],
   "source": [
    "# ubah bentuk matriks ke n x 784. dimana n adalah jumlah citra\n",
    "reshaped_x_train = x_train.reshape(-1,784).astype(np.float32)\n",
    "reshaped_x_test = x_test.reshape(-1,784).astype(np.float32)"
   ]
  },
  {
   "cell_type": "code",
   "execution_count": 8,
   "metadata": {},
   "outputs": [],
   "source": [
    "# normalisasi nilai piksel. citra yang nilainya 0-255 dibuah menjadi 0-1\n",
    "reshaped_x_train /= 255\n",
    "reshaped_x_test /= 255"
   ]
  },
  {
   "cell_type": "code",
   "execution_count": 9,
   "metadata": {},
   "outputs": [],
   "source": [
    "# import modul untuk encoding label dari keras.utils\n",
    "from tensorflow.keras.utils import to_categorical"
   ]
  },
  {
   "cell_type": "code",
   "execution_count": 10,
   "metadata": {},
   "outputs": [],
   "source": [
    "# buat variabel untuk menampung jumlah kelas\n",
    "n_class = 10\n",
    "# encoding label dari citra training dan testing\n",
    "reshaped_y_train = to_categorical(y_train, n_class)\n",
    "reshaped_y_test = to_categorical(y_test, n_class)"
   ]
  },
  {
   "cell_type": "code",
   "execution_count": 11,
   "metadata": {
    "colab": {},
    "colab_type": "code",
    "id": "c91Mgf22lJmJ"
   },
   "outputs": [],
   "source": [
    "# import modul yang dibutuhkan untuk membangun arsitektur\n",
    "from tensorflow.keras.models import Sequential\n",
    "from tensorflow.keras.layers import Dense"
   ]
  },
  {
   "cell_type": "markdown",
   "metadata": {},
   "source": [
    "### Buat arsitektur model"
   ]
  },
  {
   "cell_type": "code",
   "execution_count": 12,
   "metadata": {},
   "outputs": [],
   "source": [
    "# buat arsitektur\n",
    "model = Sequential()\n",
    "model.add(Dense(128, input_dim=784, activation='relu'))\n",
    "model.add(Dense(32, activation='relu'))\n",
    "model.add(Dense(n_class, activation='softmax'))\n",
    "model.compile(loss='categorical_crossentropy', optimizer='adam', metrics=['accuracy'])"
   ]
  },
  {
   "cell_type": "markdown",
   "metadata": {},
   "source": [
    "### Train model"
   ]
  },
  {
   "cell_type": "code",
   "execution_count": 13,
   "metadata": {},
   "outputs": [
    {
     "output_type": "stream",
     "name": "stdout",
     "text": "Train on 60000 samples, validate on 10000 samples\nEpoch 1/10\n60000/60000 [==============================] - 10s 163us/sample - loss: 0.2535 - accuracy: 0.9267 - val_loss: 0.1379 - val_accuracy: 0.9578\nEpoch 2/10\n60000/60000 [==============================] - 7s 109us/sample - loss: 0.1076 - accuracy: 0.9676 - val_loss: 0.0937 - val_accuracy: 0.9714\nEpoch 3/10\n60000/60000 [==============================] - 6s 93us/sample - loss: 0.0754 - accuracy: 0.9769 - val_loss: 0.0955 - val_accuracy: 0.9722\nEpoch 4/10\n60000/60000 [==============================] - 5s 90us/sample - loss: 0.0575 - accuracy: 0.9823 - val_loss: 0.0850 - val_accuracy: 0.9760\nEpoch 5/10\n60000/60000 [==============================] - 5s 91us/sample - loss: 0.0457 - accuracy: 0.9856 - val_loss: 0.0806 - val_accuracy: 0.9768\nEpoch 6/10\n60000/60000 [==============================] - 6s 92us/sample - loss: 0.0369 - accuracy: 0.9880 - val_loss: 0.0835 - val_accuracy: 0.9760\nEpoch 7/10\n60000/60000 [==============================] - 5s 91us/sample - loss: 0.0303 - accuracy: 0.9902 - val_loss: 0.0787 - val_accuracy: 0.9783\nEpoch 8/10\n60000/60000 [==============================] - 5s 90us/sample - loss: 0.0249 - accuracy: 0.9914 - val_loss: 0.0858 - val_accuracy: 0.9781\nEpoch 9/10\n60000/60000 [==============================] - 5s 91us/sample - loss: 0.0239 - accuracy: 0.9919 - val_loss: 0.0932 - val_accuracy: 0.9772\nEpoch 10/10\n60000/60000 [==============================] - 6s 93us/sample - loss: 0.0191 - accuracy: 0.9936 - val_loss: 0.1095 - val_accuracy: 0.9736\n"
    },
    {
     "output_type": "execute_result",
     "data": {
      "text/plain": "<tensorflow.python.keras.callbacks.History at 0x22f5c884860>"
     },
     "metadata": {},
     "execution_count": 13
    }
   ],
   "source": [
    "# training model\n",
    "model.fit(reshaped_x_train, reshaped_y_train, validation_data=(reshaped_x_test, reshaped_y_test), epochs=10)"
   ]
  },
  {
   "cell_type": "markdown",
   "metadata": {},
   "source": [
    "### Save Model"
   ]
  },
  {
   "cell_type": "code",
   "execution_count": 14,
   "metadata": {},
   "outputs": [],
   "source": [
    "# simpan model ke dalam bentuk file HDF5 untuk bisa dideploy\n",
    "model.save('model.h5')"
   ]
  },
  {
   "cell_type": "markdown",
   "metadata": {},
   "source": [
    "**SELAMAT! Anda telah berhasil membuat model Deep Learning pertama Anda!**"
   ]
  },
  {
   "cell_type": "markdown",
   "metadata": {},
   "source": [
    "----"
   ]
  },
  {
   "cell_type": "markdown",
   "metadata": {},
   "source": [
    "## Klasifikasi Gambar Angka dengan Model"
   ]
  },
  {
   "cell_type": "markdown",
   "metadata": {},
   "source": [
    "### Load model"
   ]
  },
  {
   "cell_type": "code",
   "execution_count": 15,
   "metadata": {},
   "outputs": [],
   "source": [
    "# import modul load_model untuk men-load model yang telah kita simpan\n",
    "from tensorflow.keras.models import load_model\n",
    "\n",
    "# load model yang telah kita buat (model.h5) ke variabel model\n",
    "model = load_model('model.h5')"
   ]
  },
  {
   "cell_type": "markdown",
   "metadata": {},
   "source": [
    "### Tentukan indeks dari data test"
   ]
  },
  {
   "cell_type": "code",
   "execution_count": 16,
   "metadata": {},
   "outputs": [
    {
     "output_type": "display_data",
     "data": {
      "text/plain": "<Figure size 432x288 with 1 Axes>",
      "image/svg+xml": "<?xml version=\"1.0\" encoding=\"utf-8\" standalone=\"no\"?>\r\n<!DOCTYPE svg PUBLIC \"-//W3C//DTD SVG 1.1//EN\"\r\n  \"http://www.w3.org/Graphics/SVG/1.1/DTD/svg11.dtd\">\r\n<!-- Created with matplotlib (https://matplotlib.org/) -->\r\n<svg height=\"231.84pt\" version=\"1.1\" viewBox=\"0 0 231.84 231.84\" width=\"231.84pt\" xmlns=\"http://www.w3.org/2000/svg\" xmlns:xlink=\"http://www.w3.org/1999/xlink\">\r\n <defs>\r\n  <style type=\"text/css\">\r\n*{stroke-linecap:butt;stroke-linejoin:round;}\r\n  </style>\r\n </defs>\r\n <g id=\"figure_1\">\r\n  <g id=\"patch_1\">\r\n   <path d=\"M 0 231.84 \r\nL 231.84 231.84 \r\nL 231.84 0 \r\nL 0 0 \r\nz\r\n\" style=\"fill:none;\"/>\r\n  </g>\r\n  <g id=\"axes_1\">\r\n   <g clip-path=\"url(#p9666cc3ff5)\">\r\n    <image height=\"218\" id=\"image9c749ff46e\" transform=\"scale(1 -1)translate(0 -218)\" width=\"218\" x=\"7.2\" xlink:href=\"data:image/png;base64,\r\niVBORw0KGgoAAAANSUhEUgAAANoAAADaCAYAAADAHVzbAAAABHNCSVQICAgIfAhkiAAABVFJREFUeJzt3d9rjn8cx/HbFwdqJ7ZyIrJWaq02P3KkGDsRyYEdcbwjf4ED4sCJUwfKuZJSyokjBywhOxDaEk4mKbUUoqg5Vq73/XXPXrvv7fE4ffXRdfLsU/fVNetardZiC1hW/630A8BaIDQIEBoECA0ChAYBQoMAoUHAhpV+gF519uzZcr906VLj9uzZs/LsxMREuS8sLJQ73ceNBgFCgwChQYDQIEBoECA0CBAaBHiPtgLGxsbK/fHjx+V+/Pjxcp+bm/vrZ2J5udEgQGgQIDQIEBoECA0ChAYBft7v0IMHD8r9y5cvjVtfX195dmhoqNzbnaf7uNEgQGgQIDQIEBoECA0ChAYBQoMA79E6ND09Xe5Xrlxp3Nr9qTpWHzcaBAgNAoQGAUKDAKFBgNAgQGgQ4D3aMrl27Vrjdvr06fLs9u3by/3gwYPlPjMzU+6Li4vlzr/nRoMAoUGA0CBAaBAgNAgQGgQIDQLWtVotL1XCdu7cWe5L/W+XTpw4Ue537txZ0r/P33OjQYDQIEBoECA0CBAaBAgNAoQGAd6jrYD169eX+6NHj8p979695f7mzZtyP3LkSMdn6YwbDQKEBgFCgwChQYDQIEBoEODn/S40MDBQ7k+ePCn3wcHBcr9x40bjdurUqfIsnXGjQYDQIEBoECA0CBAaBAgNAoQGAd6j9aBjx46V++3bt8v969evjVv1CU2r1f4THv7MjQYBQoMAoUGA0CBAaBAgNAgQGgR4j7YKnT9/vtwvXLjQuN29e7c8e/To0U4eac1zo0GA0CBAaBAgNAgQGgQIDQKEBgHeo61CmzZtKvfp6enGbWRkpDx7+PDhcn/48GG5r1VuNAgQGgQIDQKEBgFCgwChQcCGlX4A/r1v376Ve/UpzO7du8uzFy9eLPd2n9H8+PGj3FcrNxoECA0ChAYBQoMAoUGA0CBAaBDgM5k1aP/+/Y3bvXv3yrMbN24s9/Hx8XK/f/9+ua9WbjQIEBoECA0ChAYBQoMAoUGA0CDAezR+0+57s3PnzpX7p0+fyv3AgQON24sXL8qzvcyNBgFCgwChQYDQIEBoECA0CBAaBHiPxm+2bNlS7s+fP1/S+cnJycbt1q1b5dle5kaDAKFBgNAgQGgQIDQIEBoECA0CvEfjr5w8ebLcb968We7VN2eHDh0qzy4sLJR7N3OjQYDQIEBoECA0CBAaBAgNAvy8v0w2b97cuO3atas8OzMzU+779u3r6Jn+j+/fv5f7q1evyn12drbc+/v7G7czZ86UZ69evVru3cyNBgFCgwChQYDQIEBoECA0CBAaBGxY6QdYiomJicZtdHS0PNvufc/w8HC579mzp9zHx8cbt61bt5Zn5+fny33btm3lvhQ/f/4s948fP5Z79Z6snaGhoY7Pdjs3GgQIDQKEBgFCgwChQYDQIEBoENDT36O9ffu2cduxY0fuQf7g8+fPjdvLly+DT9Jd3r1717hdvny5PPv06dN//TgxbjQIEBoECA0ChAYBQoMAoUGA0CCgp9+jTU5ONm5TU1Pl2ffv35d7u79veP369XL/8OFD4/b69evyLKuPGw0ChAYBQoMAoUGA0CBAaBAgNAjo6fdo0CvcaBAgNAgQGgQIDQKEBgFCgwChQYDQIEBoECA0CBAaBAgNAoQGAUKDAKFBgNAgQGgQIDQIEBoECA0ChAYBQoMAoUGA0CBAaBAgNAgQGgQIDQKEBgFCgwChQYDQIEBoECA0CBAaBAgNAoQGAUKDAKFBgNAgQGgQIDQIEBoECA0ChAYBQoMAoUGA0CBAaBAgNAgQGgQIDQKEBgG/AA4Qw9xTiE7xAAAAAElFTkSuQmCC\" y=\"-6.64\"/>\r\n   </g>\r\n  </g>\r\n </g>\r\n <defs>\r\n  <clipPath id=\"p9666cc3ff5\">\r\n   <rect height=\"217.44\" width=\"217.44\" x=\"7.2\" y=\"7.2\"/>\r\n  </clipPath>\r\n </defs>\r\n</svg>\r\n",
      "image/png": "[encoded data removed]"
     },
     "metadata": {
      "needs_background": "light"
     }
    },
    {
     "output_type": "stream",
     "name": "stdout",
     "text": "Angka 7\n"
    }
   ],
   "source": [
    "# tentukan indek x_test yang akan diambil. tampung ke variabel idx. kita akan coba mengambil data index ke-100 dari x_test\n",
    "idx = 0 # Anda bisa mengubah nilai idx. dengan ketentuan idx = 0-10000\n",
    "# ambil data pertama dari x_test. tampung ke variabel img\n",
    "img = x_test[idx,:,:]\n",
    "# ambil label data pertama. tampung ke variabel label\n",
    "y = y_test[idx]\n",
    "\n",
    "# visualisasi data img\n",
    "plt.imshow(img, cmap='gray')\n",
    "plt.axis('off')\n",
    "plt.show()\n",
    "# print label dan gambar angka\n",
    "print('Angka {}'.format(y))"
   ]
  },
  {
   "cell_type": "markdown",
   "metadata": {},
   "source": [
    "### Preprocessing data"
   ]
  },
  {
   "cell_type": "code",
   "execution_count": 17,
   "metadata": {},
   "outputs": [],
   "source": [
    "# reshape img agar bisa masuk ke model\n",
    "img_reshaped = img.reshape(1,-1).astype(np.float32)\n",
    "# normalisasi data\n",
    "img_reshaped /= 255"
   ]
  },
  {
   "cell_type": "markdown",
   "metadata": {},
   "source": [
    "### Klasifikasi"
   ]
  },
  {
   "cell_type": "code",
   "execution_count": 18,
   "metadata": {},
   "outputs": [],
   "source": [
    "# klasifikasi kelas/label dari data tadi\n",
    "y_pred = model.predict_classes(img_reshaped)\n",
    "\n",
    "# cek probabilitas hasil klasifikasi setiap kelas\n",
    "pred = model.predict_proba(img_reshaped)\n",
    "pred = pred.reshape(-1)\n",
    "idx_pred = pred.argsort()[::-1]"
   ]
  },
  {
   "cell_type": "markdown",
   "metadata": {},
   "source": [
    "### Print hasil klasifikasi dengan penjelasan"
   ]
  },
  {
   "cell_type": "code",
   "execution_count": 19,
   "metadata": {},
   "outputs": [
    {
     "output_type": "stream",
     "name": "stdout",
     "text": "Probabilitas setiap kelas (urutan berdasarkan nilai probabilitas tertinggi) :\n probabilitas kelas 7 adalah :1.0\n probabilitas kelas 3 adalah :2.0604117523248533e-08\n probabilitas kelas 1 adalah :3.64607322111965e-09\n probabilitas kelas 2 adalah :1.7140051600250672e-09\n probabilitas kelas 8 adalah :3.3745356509129465e-10\n probabilitas kelas 0 adalah :8.519640548598773e-11\n probabilitas kelas 5 adalah :4.117438594936074e-12\n probabilitas kelas 9 adalah :2.018733704506337e-12\n probabilitas kelas 4 adalah :5.4606482774140555e-14\n probabilitas kelas 6 adalah :1.216724712248176e-16\n\nDari nilai probabilitas kelas tertinggi, maka gambar angka diatas diklasifikasikan sebagai angka 7\nHasil klasifikasi BENAR\n"
    }
   ],
   "source": [
    "print('Probabilitas setiap kelas (urutan berdasarkan nilai probabilitas tertinggi) :')\n",
    "for i in idx_pred:\n",
    "    print(' probabilitas kelas {} adalah :{}'.format(i,pred[i]))\n",
    "\n",
    "\n",
    "print('\\nDari nilai probabilitas kelas tertinggi, maka gambar angka diatas diklasifikasikan sebagai angka {}'.format(idx_pred[0])) \n",
    "if (y==y_pred):\n",
    "    print('Hasil klasifikasi BENAR')\n",
    "else:\n",
    "    print('Hasil klasifikasi SALAH')"
   ]
  }
 ],
 "metadata": {
  "colab": {
   "authorship_tag": "ABX9TyP9pG6RTYXlUOZ54FyIGDph",
   "collapsed_sections": [],
   "include_colab_link": true,
   "name": "Build and Deploy AI (Deep Learning) Model.ipynb",
   "provenance": []
  },
  "kernelspec": {
   "display_name": "Python 3.6.8 64-bit ('TF': venv)",
   "language": "python",
   "name": "python36864bittfvenv2f07173df0da4e6fa5f9e445c2ea2c70"
  },
  "language_info": {
   "codemirror_mode": {
    "name": "ipython",
    "version": 3
   },
   "file_extension": ".py",
   "mimetype": "text/x-python",
   "name": "python",
   "nbconvert_exporter": "python",
   "pygments_lexer": "ipython3",
   "version": "3.6.8-final"
  },
  "varInspector": {
   "cols": {
    "lenName": 16,
    "lenType": 16,
    "lenVar": 40
   },
   "kernels_config": {
    "python": {
     "delete_cmd_postfix": "",
     "delete_cmd_prefix": "del ",
     "library": "var_list.py",
     "varRefreshCmd": "print(var_dic_list())"
    },
    "r": {
     "delete_cmd_postfix": ") ",
     "delete_cmd_prefix": "rm(",
     "library": "var_list.r",
     "varRefreshCmd": "cat(var_dic_list()) "
    }
   },
   "types_to_exclude": [
    "module",
    "function",
    "builtin_function_or_method",
    "instance",
    "_Feature"
   ],
   "window_display": false
  }
 },
 "nbformat": 4,
 "nbformat_minor": 1
}